{
 "cells": [
  {
   "cell_type": "code",
   "execution_count": 8,
   "metadata": {},
   "outputs": [
    {
     "name": "stdout",
     "output_type": "stream",
     "text": [
      "※변수 Packing\n",
      "(1, 2, 3, 4)\n",
      "\n",
      "※변수 UnPacking\n",
      "1 2 3 4\n",
      "\n",
      "※함수 Packing\n",
      "(1, 2, 3, 4)\n",
      "\n",
      "※함수 UnPacking\n",
      "1 2 3 4\n",
      "\n",
      "※ Packing\n",
      "(1, 2, 3, 4)\n",
      "\n",
      "※ UnPacking\n",
      "1 2 3 4\n",
      "\n"
     ]
    }
   ],
   "source": [
    "# 변수 Packing\n",
    "a = 1,2,3,4\n",
    "print(\"※변수 Packing\")\n",
    "print(a, end=\"\\n\\n\")\n",
    "\n",
    "# 변수 UnPacking\n",
    "a, b, c, d = (1,2,3,4)\n",
    "print(\"※변수 UnPacking\")\n",
    "print(a,b,c,d, sep=\" \", end=\"\\n\\n\")\n",
    "\n",
    "# 함수 Packing\n",
    "def pack_method(*data):\n",
    "    print(\"※함수 Packing\")\n",
    "    print(data, end=\"\\n\\n\")\n",
    "    \n",
    "pack_method(1,2,3,4)\n",
    "\n",
    "# 함수 UnPacking\n",
    "test_data = [1,2,3,4]\n",
    "def unPack_method(a,b,c,d):\n",
    "    print(\"※함수 UnPacking\")\n",
    "    print(a,b,c,d, sep=\" \", end=\"\\n\\n\")\n",
    "    \n",
    "unPack_method(*test_data)\n",
    "\n",
    "# 함수 Packing/UnPacking 혼용\n",
    "test_data = [1,2,3,4]\n",
    "def unPack_method(*data):\n",
    "    print(\"※ Packing\")     \n",
    "    print(data, end=\"\\n\\n\")\n",
    "    print(\"※ UnPacking\")     \n",
    "    print(*data, end=\"\\n\\n\")\n",
    "    \n",
    "unPack_method(*test_data)"
   ]
  },
  {
   "cell_type": "code",
   "execution_count": null,
   "metadata": {},
   "outputs": [],
   "source": []
  }
 ],
 "metadata": {
  "kernelspec": {
   "display_name": "Python 3",
   "language": "python",
   "name": "python3"
  },
  "language_info": {
   "codemirror_mode": {
    "name": "ipython",
    "version": 3
   },
   "file_extension": ".py",
   "mimetype": "text/x-python",
   "name": "python",
   "nbconvert_exporter": "python",
   "pygments_lexer": "ipython3",
   "version": "3.7.6"
  }
 },
 "nbformat": 4,
 "nbformat_minor": 4
}
