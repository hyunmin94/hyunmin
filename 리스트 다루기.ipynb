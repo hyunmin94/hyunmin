{
 "cells": [
  {
   "cell_type": "code",
   "execution_count": 22,
   "metadata": {},
   "outputs": [
    {
     "name": "stdout",
     "output_type": "stream",
     "text": [
      "※ 리스트 더하기\n",
      "[1, 2, 3, 4, 5, 6, 7, 8, 9, 10]\n",
      "\n",
      "※ 리스트 곱하기\n",
      "[1, 2, 3, 4, 5, 1, 2, 3, 4, 5, 1, 2, 3, 4, 5]\n"
     ]
    }
   ],
   "source": [
    "list_data1 = [1,2,3,4,5]\n",
    "list_data2 = [6,7,8,9,10]\n",
    "\n",
    "print('※ 리스트 더하기')\n",
    "print(list_data1 + list_data2, end='\\n\\n')\n",
    "\n",
    "print('※ 리스트 곱하기')\n",
    "print(list_data1 * 3)"
   ]
  },
  {
   "cell_type": "code",
   "execution_count": 23,
   "metadata": {},
   "outputs": [
    {
     "data": {
      "text/plain": [
       "[1, 3, 4, 5]"
      ]
     },
     "execution_count": 23,
     "metadata": {},
     "output_type": "execute_result"
    }
   ],
   "source": [
    "list_data = [1,2,3,4,5]\n",
    "\n",
    "# 배열 위치에 따른 삭제\n",
    "del list_data[1:2]\n",
    "# del list_data[1] : 결과 동일\n",
    "\n",
    "list_data"
   ]
  },
  {
   "cell_type": "code",
   "execution_count": 24,
   "metadata": {},
   "outputs": [
    {
     "name": "stdout",
     "output_type": "stream",
     "text": [
      "※ 존재 하는 항목\n",
      "True\n",
      "\n",
      "※ 존재하지 않는 항목\n",
      "False\n"
     ]
    }
   ],
   "source": [
    "list_data = [1,2,3,4,5]\n",
    "\n",
    "# 해당 항목이 있으면 boolean 값 True 반환\n",
    "print('※ 존재 하는 항목')\n",
    "print(3 in list_data, end='\\n\\n')\n",
    "\n",
    "# 해당 항목이 없으면 boolean 값 False 반환\n",
    "print('※ 존재하지 않는 항목')\n",
    "print(9 in list_data)"
   ]
  },
  {
   "cell_type": "code",
   "execution_count": null,
   "metadata": {},
   "outputs": [],
   "source": []
  }
 ],
 "metadata": {
  "kernelspec": {
   "display_name": "Python 3",
   "language": "python",
   "name": "python3"
  },
  "language_info": {
   "codemirror_mode": {
    "name": "ipython",
    "version": 3
   },
   "file_extension": ".py",
   "mimetype": "text/x-python",
   "name": "python",
   "nbconvert_exporter": "python",
   "pygments_lexer": "ipython3",
   "version": "3.7.6"
  }
 },
 "nbformat": 4,
 "nbformat_minor": 4
}
