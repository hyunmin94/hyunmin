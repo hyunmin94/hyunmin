{
 "cells": [
  {
   "cell_type": "code",
   "execution_count": 46,
   "metadata": {},
   "outputs": [
    {
     "data": {
      "image/png": "[encoded data removed]",
      "text/plain": [
       "<Figure size 432x288 with 1 Axes>"
      ]
     },
     "metadata": {
      "needs_background": "light"
     },
     "output_type": "display_data"
    }
   ],
   "source": [
    "import matplotlib\n",
    "import matplotlib.pyplot as plt\n",
    "import numpy as np\n",
    "\n",
    "# 그래프에 한글 출력시 폰트 변경 (기본폰트 : sans-serif)\n",
    "matplotlib.rcParams['font.family'] = 'Malgun Gothic'\n",
    "# 그래프에서 마이너스(-)폰트 깨짐 방지\n",
    "matplotlib.rcParams['axes.unicode_minus'] = False\n",
    "\n",
    "# 멤버 이름\n",
    "member_name = ['A','B','C','D']\n",
    "# 막대 그래프 너비값\n",
    "bar_width = 0.4\n",
    "# 운동 전 데이터\n",
    "before_data = [56,70,46,90]\n",
    "# 운동 후 데이터\n",
    "after_data = [70,75,60,100]\n",
    "# x축 데이터 [0,1,2,3]\n",
    "index = np.arange(len(member_name))\n",
    "\n",
    "# before 막대 그래프\n",
    "plt.bar(index, before_data, color = 'r', align='edge', width=bar_width, label='before')\n",
    "# after 막대 그래프\n",
    "plt.bar(index + bar_width, after_data, color = 'c', align='edge', width=bar_width, label='after')\n",
    "\n",
    "# after 막대 그래프 x축 데이터에 맞춰 라벨 지정\n",
    "plt.xticks(index + bar_width, member_name)\n",
    "# plt.bar(label='문자열')을 통해 범례지정\n",
    "plt.legend()\n",
    "# x축 라벨 \n",
    "plt.xlabel('회원 이름')\n",
    "# y축 라벨\n",
    "plt.ylabel('팔굽혀펴기 횟수')\n",
    "# 타이틀\n",
    "plt.title('운동 시작 전과 후 비교')\n",
    "plt.show()"
   ]
  },
  {
   "cell_type": "code",
   "execution_count": 50,
   "metadata": {},
   "outputs": [
    {
     "data": {
      "image/png": "[encoded data removed]",
      "text/plain": [
       "<Figure size 432x288 with 1 Axes>"
      ]
     },
     "metadata": {
      "needs_background": "light"
     },
     "output_type": "display_data"
    }
   ],
   "source": [
    "import matplotlib\n",
    "import matplotlib.pyplot as plt\n",
    "import pandas as pd\n",
    "\n",
    "# 그래프에 한글 출력시 폰트 변경 (기본폰트 : sans-serif)\n",
    "matplotlib.rcParams['font.family'] = 'Malgun Gothic'\n",
    "# 그래프에서 마이너스(-)폰트 깨짐 방지\n",
    "matplotlib.rcParams['axes.unicode_minus'] = False\n",
    "\n",
    "# 멤버 이름\n",
    "member_name = ['A','B','C','D']\n",
    "# 막대 그래프 너비값\n",
    "bar_width = 0.4\n",
    "# 운동 전 데이터\n",
    "before_data = [56,70,46,90]\n",
    "# 운동 후 데이터\n",
    "after_data = [70,75,60,100]\n",
    "\n",
    "# DataFrame 객체 생성\n",
    "# index : x축 데이터 자동 지정\n",
    "# 컬럼 : 범례문자열 자동 지정\n",
    "dataframe_bar = pd.DataFrame({'before': before_data, 'after': after_data}, index=member_name)\n",
    "\n",
    "# 막대 그래프 색은 비교 막대 그래프가 2개이므로 ['r','c'] 두개의 컬러로 지정\n",
    "ex_bar = dataframe_bar.plot.bar(color=['r','c'],width=0.8, title='운동 시작 전과 후 비교')\n",
    "# 같은 그래프 생성\n",
    "# ▶ ex_bar = dataframe_bar.plot(kind='bar',color=['r','c'],width=0.8, title='운동 시작 전과 후 비교')\n",
    "\n",
    "# x축 라벨 \n",
    "ex_bar.set_xlabel('회원 이름')\n",
    "# y축 라벨\n",
    "ex_bar.set_ylabel('팔굽혀펴기 횟수')\n",
    "plt.show()"
   ]
  },
  {
   "cell_type": "code",
   "execution_count": 51,
   "metadata": {},
   "outputs": [
    {
     "data": {
      "text/html": [
       "<div>\n",
       "<style scoped>\n",
       "    .dataframe tbody tr th:only-of-type {\n",
       "        vertical-align: middle;\n",
       "    }\n",
       "\n",
       "    .dataframe tbody tr th {\n",
       "        vertical-align: top;\n",
       "    }\n",
       "\n",
       "    .dataframe thead th {\n",
       "        text-align: right;\n",
       "    }\n",
       "</style>\n",
       "<table border=\"1\" class=\"dataframe\">\n",
       "  <thead>\n",
       "    <tr style=\"text-align: right;\">\n",
       "      <th></th>\n",
       "      <th>before</th>\n",
       "      <th>after</th>\n",
       "    </tr>\n",
       "  </thead>\n",
       "  <tbody>\n",
       "    <tr>\n",
       "      <th>A</th>\n",
       "      <td>56</td>\n",
       "      <td>70</td>\n",
       "    </tr>\n",
       "    <tr>\n",
       "      <th>B</th>\n",
       "      <td>70</td>\n",
       "      <td>75</td>\n",
       "    </tr>\n",
       "    <tr>\n",
       "      <th>C</th>\n",
       "      <td>46</td>\n",
       "      <td>60</td>\n",
       "    </tr>\n",
       "    <tr>\n",
       "      <th>D</th>\n",
       "      <td>90</td>\n",
       "      <td>100</td>\n",
       "    </tr>\n",
       "  </tbody>\n",
       "</table>\n",
       "</div>"
      ],
      "text/plain": [
       "   before  after\n",
       "A      56     70\n",
       "B      70     75\n",
       "C      46     60\n",
       "D      90    100"
      ]
     },
     "execution_count": 51,
     "metadata": {},
     "output_type": "execute_result"
    }
   ],
   "source": [
    "dataframe_bar"
   ]
  },
  {
   "cell_type": "code",
   "execution_count": null,
   "metadata": {},
   "outputs": [],
   "source": []
  }
 ],
 "metadata": {
  "kernelspec": {
   "display_name": "Python 3",
   "language": "python",
   "name": "python3"
  },
  "language_info": {
   "codemirror_mode": {
    "name": "ipython",
    "version": 3
   },
   "file_extension": ".py",
   "mimetype": "text/x-python",
   "name": "python",
   "nbconvert_exporter": "python",
   "pygments_lexer": "ipython3",
   "version": "3.7.6"
  }
 },
 "nbformat": 4,
 "nbformat_minor": 4
}
