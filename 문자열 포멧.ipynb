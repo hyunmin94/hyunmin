{
 "cells": [
  {
   "cell_type": "code",
   "execution_count": 42,
   "metadata": {},
   "outputs": [
    {
     "name": "stdout",
     "output_type": "stream",
     "text": [
      "2 : '2020-05-19 23:11:19'\n",
      "3 : 'H                   '\n",
      "4 : '                   H'\n",
      "5 : '         H          '\n",
      "6 : '*********H**********'\n",
      "7 : '         H          '\n",
      "8 : '+3.400000' '-3.400000'\n",
      "9 : ' 3.400000' '-3.400000'\n",
      "10: '3.400000' '-3.400000'\n",
      "11: '16' '10000' '20' '10'\n",
      "12: '16' '0b10000' '0o20' '0x10'\n",
      "13: '0X10'\n",
      "14: '60,003,000'\n",
      "15: '60.00%'\n",
      "16: '0X10'\n"
     ]
    }
   ],
   "source": [
    "import datetime\n",
    "print(\"2 : \\'{:%Y-%m-%d %H:%M:%S}\\'\".format(datetime.datetime.today()))\n",
    "print(\"3 : \\'{:<20}\\'\".format('H'))\n",
    "print(\"4 : \\'{:>20}\\'\".format('H'))\n",
    "print(\"5 : \\'{:^20}\\'\".format('H'))\n",
    "print(\"6 : \\'{:*^20}\\'\".format('H'))\n",
    "print(\"7 : \\'{0:{align}}\\'\".format('H', align = '^20'))\n",
    "print(\"8 : \\'{:+f}\\' \\'{:+f}\\'\".format(3.4,-3.4))\n",
    "print(\"9 : \\'{: f}\\' \\'{: f}\\'\".format(3.4,-3.4))\n",
    "print(\"10: \\'{:-f}\\' \\'{:-f}\\'\".format(3.4,-3.4))\n",
    "print(\"11: \\'{:d}\\' \\'{:b}\\' \\'{:o}\\' \\'{:x}\\'\".format(16,16,16,16))\n",
    "print(\"12: \\'{:d}\\' \\'{:#b}\\' \\'{:#o}\\' \\'{:#x}\\'\".format(16,16,16,16))\n",
    "print(\"13: \\'{:#X}\\'\".format(16))\n",
    "print(\"14: \\'{:,}\\'\".format(60003000))\n",
    "print(\"15: \\'{:.2%}\\'\".format(0.6))\n",
    "print(\"16: \\'{0:#X}\\'\".format(16))"
   ]
  },
  {
   "cell_type": "code",
   "execution_count": null,
   "metadata": {},
   "outputs": [],
   "source": []
  }
 ],
 "metadata": {
  "kernelspec": {
   "display_name": "Python 3",
   "language": "python",
   "name": "python3"
  },
  "language_info": {
   "codemirror_mode": {
    "name": "ipython",
    "version": 3
   },
   "file_extension": ".py",
   "mimetype": "text/x-python",
   "name": "python",
   "nbconvert_exporter": "python",
   "pygments_lexer": "ipython3",
   "version": "3.7.6"
  }
 },
 "nbformat": 4,
 "nbformat_minor": 4
}
