{
 "cells": [
  {
   "cell_type": "code",
   "execution_count": 7,
   "metadata": {},
   "outputs": [
    {
     "name": "stdout",
     "output_type": "stream",
     "text": [
      "{1, 2, 3, 4}\n"
     ]
    }
   ],
   "source": [
    "# 중복되는 숫자 '3'\n",
    "set_data = {1,2,3,3,4}\n",
    "\n",
    "# 중복되는 숫자 '3' 사라진거 확인\n",
    "print(set_data)"
   ]
  },
  {
   "cell_type": "code",
   "execution_count": 11,
   "metadata": {},
   "outputs": [
    {
     "name": "stdout",
     "output_type": "stream",
     "text": [
      "※ 교집합\n",
      "{2, 4}\n",
      "{2, 4}\n",
      "\n",
      "※ 합집합\n",
      "{1, 2, 3, 4, 5, 6}\n",
      "{1, 2, 3, 4, 5, 6}\n",
      "\n",
      "※ 차집합\n",
      "{1, 3}\n",
      "{1, 3}\n",
      "\n"
     ]
    }
   ],
   "source": [
    "set_data1 = {1,2,3,4}\n",
    "set_data2 = {2,4,5,6}\n",
    "\n",
    "print('※ 교집합')\n",
    "print(set_data1.intersection(set_data2))\n",
    "print(set_data1 & set_data2, end='\\n\\n')\n",
    "\n",
    "print('※ 합집합')\n",
    "print(set_data1.union(set_data2))\n",
    "print(set_data1 | set_data2, end='\\n\\n')\n",
    "\n",
    "print('※ 차집합')\n",
    "print(set_data1.difference(set_data2))\n",
    "print(set_data1 - set_data2, end='\\n\\n')"
   ]
  },
  {
   "cell_type": "code",
   "execution_count": null,
   "metadata": {},
   "outputs": [],
   "source": []
  }
 ],
 "metadata": {
  "kernelspec": {
   "display_name": "Python 3",
   "language": "python",
   "name": "python3"
  },
  "language_info": {
   "codemirror_mode": {
    "name": "ipython",
    "version": 3
   },
   "file_extension": ".py",
   "mimetype": "text/x-python",
   "name": "python",
   "nbconvert_exporter": "python",
   "pygments_lexer": "ipython3",
   "version": "3.7.6"
  }
 },
 "nbformat": 4,
 "nbformat_minor": 4
}
