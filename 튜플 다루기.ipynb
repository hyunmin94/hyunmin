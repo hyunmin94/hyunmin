{
 "cells": [
  {
   "cell_type": "code",
   "execution_count": 20,
   "metadata": {},
   "outputs": [
    {
     "name": "stdout",
     "output_type": "stream",
     "text": [
      "※ index() 메소드\n",
      "2\n",
      "\n",
      "※ count() 메소드\n",
      "2\n"
     ]
    }
   ],
   "source": [
    "tuple_data = (1,2,3,4,3)\n",
    "# tuple_data = 1,2,3,4,3  : 같은 결과 '()' 생략 가능\n",
    "\n",
    "# 항목 숫자 3의 위치를 반환\n",
    "print('※ index() 메소드')\n",
    "print(tuple_data.index(3), end ='\\n\\n')\n",
    "\n",
    "# 항목 숫자 3의 항목 갯수를 반환\n",
    "print('※ count() 메소드')\n",
    "print(tuple_data.count(3))"
   ]
  },
  {
   "cell_type": "code",
   "execution_count": null,
   "metadata": {},
   "outputs": [],
   "source": []
  }
 ],
 "metadata": {
  "kernelspec": {
   "display_name": "Python 3",
   "language": "python",
   "name": "python3"
  },
  "language_info": {
   "codemirror_mode": {
    "name": "ipython",
    "version": 3
   },
   "file_extension": ".py",
   "mimetype": "text/x-python",
   "name": "python",
   "nbconvert_exporter": "python",
   "pygments_lexer": "ipython3",
   "version": "3.7.6"
  }
 },
 "nbformat": 4,
 "nbformat_minor": 4
}
