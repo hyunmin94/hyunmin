{
 "cells": [
  {
   "cell_type": "code",
   "execution_count": 1,
   "metadata": {},
   "outputs": [
    {
     "name": "stdout",
     "output_type": "stream",
     "text": [
      "※ 행렬곱\n",
      "[[0 1]\n",
      " [6 5]]\n",
      "\n",
      "※ 전치행렬\n",
      "[[0 2]\n",
      " [1 3]]\n",
      "\n",
      "※ 역행렬\n",
      "[[-1.5  0.5]\n",
      " [ 1.   0. ]]\n",
      "\n",
      "※ 행렬식\n",
      "-2.0\n"
     ]
    }
   ],
   "source": [
    "import numpy as np\n",
    "\n",
    "A = np.array([0,1,2,3]).reshape(2,2)\n",
    "B = np.array([3,1,0,1]).reshape(2,2)\n",
    "\n",
    "# 행렬곱\n",
    "print('※ 행렬곱')\n",
    "print(A.dot(B), end='\\n\\n')\n",
    "# print(np.dot(A,B), end='\\n\\n') 같은 결과\n",
    "\n",
    "\n",
    "# 전치행렬\n",
    "print('※ 전치행렬')\n",
    "print(A.transpose(), end='\\n\\n')\n",
    "# print(np.transpose(A), end='\\n\\n') 같은 결과\n",
    "\n",
    "# 역행렬\n",
    "print('※ 역행렬')\n",
    "print(np.linalg.inv(A), end='\\n\\n')\n",
    "\n",
    "# 행렬식\n",
    "print('※ 행렬식')\n",
    "print(np.linalg.det(A))"
   ]
  },
  {
   "cell_type": "code",
   "execution_count": null,
   "metadata": {},
   "outputs": [],
   "source": []
  }
 ],
 "metadata": {
  "kernelspec": {
   "display_name": "Python 3",
   "language": "python",
   "name": "python3"
  },
  "language_info": {
   "codemirror_mode": {
    "name": "ipython",
    "version": 3
   },
   "file_extension": ".py",
   "mimetype": "text/x-python",
   "name": "python",
   "nbconvert_exporter": "python",
   "pygments_lexer": "ipython3",
   "version": "3.7.6"
  }
 },
 "nbformat": 4,
 "nbformat_minor": 4
}
